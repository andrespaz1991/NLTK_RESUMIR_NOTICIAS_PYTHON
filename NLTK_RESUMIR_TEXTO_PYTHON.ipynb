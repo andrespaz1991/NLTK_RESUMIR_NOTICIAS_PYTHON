{
  "nbformat": 4,
  "nbformat_minor": 0,
  "metadata": {
    "colab": {
      "name": "NLTK_RESUMIR_TEXTO_PYTHON.ipynb",
      "provenance": [],
      "collapsed_sections": [],
      "mount_file_id": "1CpKwFMGJL4id9__4Og35aH0dkrg2YfIq",
      "authorship_tag": "ABX9TyM95See0vE4UUI7BMgC6WI9",
      "include_colab_link": true
    },
    "kernelspec": {
      "name": "python3",
      "display_name": "Python 3"
    },
    "language_info": {
      "name": "python"
    }
  },
  "cells": [
    {
      "cell_type": "markdown",
      "metadata": {
        "id": "view-in-github",
        "colab_type": "text"
      },
      "source": [
        "<a href=\"https://colab.research.google.com/github/andrespaz1991/NLTK_RESUMIR_NOTICIAS_PYTHON/blob/main/NLTK_RESUMIR_TEXTO_PYTHON.ipynb\" target=\"_parent\"><img src=\"https://colab.research.google.com/assets/colab-badge.svg\" alt=\"Open In Colab\"/></a>"
      ]
    },
    {
      "cell_type": "markdown",
      "source": [
        "# **Leer texto de un pdf**\n",
        "\n",
        "---"
      ],
      "metadata": {
        "id": "3YgMWsgMslwZ"
      }
    },
    {
      "cell_type": "code",
      "source": [
        "!pip install pypdf2\n",
        "import PyPDF2\n",
        "#cargamos el documento pdf con permisos de lectura\n",
        "pdffileobject=open(\"/content/django.pdf\",\"rb\")\n",
        "#abrimos el documento\n",
        "pdfReader=PyPDF2.PdfFileReader(pdffileobject)\n",
        "####info general del pdf \n",
        "num_pages=pdfReader.numPages\n",
        "####Rrecorremos la páginas y presentamos el contenido de las páginas\n",
        "for id in range(0,num_pages):\n",
        "    pagina=pdfReader.getPage(id)\n",
        "    print(pagina.extractText())"
      ],
      "metadata": {
        "id": "24bkENQkjYuw"
      },
      "execution_count": null,
      "outputs": []
    },
    {
      "cell_type": "markdown",
      "source": [
        "# **Resumen de texto**\n",
        "\n",
        "---\n",
        "\n"
      ],
      "metadata": {
        "id": "12eVV3Cls7DI"
      }
    },
    {
      "cell_type": "code",
      "source": [
        "!pip install beautifulsoup4 #Para hacer web scrapping \n",
        "!pip install lxml #libreria de xml y html\n",
        "!pip install --user -U nltk #kit de procesamiento de lenguaje natural \n",
        "!pip install --user -U numpy #trabajar con matrices de gran volumen\n",
        "!run python then type import nltk #usamos un test de instalación\n",
        "!python -m nltk.downloader popular #Descargamos los modelos más polulares cuando no conocemos "
      ],
      "metadata": {
        "id": "ZwI1wva6sh7-"
      },
      "execution_count": null,
      "outputs": []
    },
    {
      "cell_type": "code",
      "source": [
        "class NLTK():\n",
        "  def resumir_texto(self,texto):\n",
        "    web=0\n",
        "    longitud=30\n",
        "    idioma='spanish'\n",
        "    import bs4 as bs #importamos \n",
        "    import urllib.request\n",
        "    import re\n",
        "    import nltk\n",
        "    #nltk.download('popular')\n",
        "    if web!=0:\n",
        "      scraped_data = urllib.request.urlopen(web) #webscrapping \n",
        "      article = scraped_data.read()\n",
        "      parsed_article = bs.BeautifulSoup(article,'lxml')\n",
        "      paragraphs = parsed_article.find_all('p')\n",
        "      for p in paragraphs:\n",
        "        article_text += p.text\n",
        "        article_text = re.sub(r'[[0-9]*]', ' ', article_text)\n",
        "        article_text = re.sub(r's+', ' ', article_text)\n",
        "\n",
        "    if web==0:\n",
        "      article_text=texto\n",
        "      formatted_article_text = re.sub('[^a-zA-Z]', ' ', article_text )\n",
        "      formatted_article_text = re.sub(r's+', ' ', formatted_article_text)\n",
        "      sentence_list = nltk.sent_tokenize(article_text) #tokenize parte las palabras \n",
        "      stopwords = nltk.corpus.stopwords.words(idioma) # Identificamos palabras comunes\n",
        "      word_frequencies = {} #creamos un array \n",
        "\n",
        "      for word in nltk.word_tokenize(formatted_article_text):\n",
        "        if word not in stopwords:\n",
        "            if word not in word_frequencies.keys():\n",
        "                word_frequencies[word] = 1\n",
        "            else:\n",
        "                word_frequencies[word] += 1\n",
        "\n",
        "    maximum_frequncy = max(word_frequencies.values()) #obtenemos los que tienen un mayor valor en despues de la tokenización\n",
        "    for word in word_frequencies.keys(): \n",
        "        word_frequencies[word] = (word_frequencies[word]/maximum_frequncy)\n",
        "    sentence_scores = {}\n",
        "    for sent in sentence_list:\n",
        "        for word in nltk.word_tokenize(sent.lower()):\n",
        "            if word in word_frequencies.keys():\n",
        "                if len(sent.split(' ')) < longitud:\n",
        "                    if sent not in sentence_scores.keys():\n",
        "                        sentence_scores[sent] = word_frequencies[word]\n",
        "                    else:     \n",
        "                        sentence_scores[sent] += word_frequencies[word]\n",
        "    import heapq\n",
        "    summary_sentences = heapq.nlargest(7, sentence_scores, key=sentence_scores.get)\n",
        "    summary = ' '.join(summary_sentences)\n",
        "    return summary\n",
        "############################################################################\n",
        "url=\"https://www.eltiempo.com/tecnosfera\"\n",
        "from bs4 import BeautifulSoup\n",
        "import requests \n",
        "import re\n",
        "req = requests.get(url)\n",
        "soup = BeautifulSoup(req.text,\"lxml\")\n",
        "articulos=soup.find_all(\"a\",class_=\"epigraph page-link\")\n",
        "PNL=NLTK()\n",
        "for x in articulos:\n",
        "  summary=PNL.resumir_texto(x.text)\n",
        "  print(\"#\"*32)\n",
        "  print(summary)\n",
        "  #print(x.text)\n",
        "#############################################################################\n"
      ],
      "metadata": {
        "colab": {
          "base_uri": "https://localhost:8080/"
        },
        "id": "C5qi1cjU28R6",
        "outputId": "359072e1-790b-469c-a9cb-79f4dddb8cb6"
      },
      "execution_count": null,
      "outputs": [
        {
          "output_type": "stream",
          "name": "stdout",
          "text": [
            "################################\n",
            "Incluye un sistema que tiene la capacidad de detectar la frecuencia cardiaca de los usuarios.\n",
            "################################\n",
            "Una vez tenga activa la posibilidad de búsqueda antirrobo solo debe ingresar a su cuenta de Google.\n",
            "################################\n",
            "Los usuarios que pertenezcan a la versión beta podrán ser los primeros en disfrutarlas.\n",
            "################################\n",
            "\n",
            "Uno de ellos es Joshua Beveridge, director de animación enSpider-Man: un nuevo universo.\n",
            "################################\n",
            "\n",
            "El nuevo CEO tomará posesión de su cargo desde el próximo 20 de abril.\n",
            "################################\n",
            "\n",
            "El gobierno chino aseguró que la medida tiene el propósito de 'poner orden al caos 'online''.\n",
            "################################\n",
            "\n",
            "################################\n",
            "\n",
            "Chris Bannister, actual CEO de WOM en Colombia, termina su gestión y entrega el cargo.\n",
            "################################\n",
            "\n",
            "Entre las novedades que incluirá la aplicación está la notificación de las capturas de pantalla.\n",
            "################################\n",
            "El trabajo ya no es estático y las personas pueden hacerlo mucho mejor en donde se encuentren.\n",
            "################################\n",
            "\n",
            "La idea es que los usuarios que tienen criptoactivos, las conviertan en productos en la aplicación.\n",
            "################################\n",
            "\n",
            "A las funciones clásicas se le están sumando nuevas opciones como responder por mensaje directo.\n",
            "################################\n",
            "\n",
            "Aunque la aplicación no está de manera nativa disponible es posible tener funciones similares.\n",
            "################################\n",
            "\n",
            "La idea es que el equipo sea todo lo que necesitan los creadores de contenido en redes sociales.\n",
            "################################\n",
            "\n",
            "Algunos celulares permiten aumentar la memoria, aquí puede consultar si el suyo es uno de ellos.\n",
            "################################\n",
            "\n",
            "La decisión obedece a varios motivos y ha sido adoptada por Samsung y Apple.\n",
            "################################\n",
            "\n",
            "Se recomienda actualizar su celular para solucionar problemas de batería y seguridad.\n",
            "################################\n",
            "\n",
            "Hacer esto de manera constante podría dañar el dispositivo, además de tener otras repercusiones.\n",
            "################################\n",
            "\n",
            "De esta manera no desperdiciará agua y cuidará el planeta desde su hogar.\n",
            "################################\n",
            "\n",
            "Siga estos pasos sencillos para que su celular esté protegido en caso de que ocurra algo inesperado.\n",
            "################################\n",
            "\n",
            "Con la actualización los usuarios presentan constantes errores, pero puede restaurar otra versión.\n",
            "################################\n",
            "\n",
            "Existen varias herramientas o plataformas con las que los usuarios pueden hacer este proceso.\n",
            "################################\n",
            "\n",
            "Este cambio sigue siendo petición de las aerolíneas.\n",
            "################################\n",
            "\n",
            "Claro sigue en la búsqueda del ganador del Duelo de Creadores que ganará 20.000 dólares.\n",
            "################################\n",
            "\n",
            "La compañía le apuesta a ofrecer toda una experiencia de aventura de acción de alta calidad.\n",
            "################################\n",
            "\n",
            "Este nuevo sistema permite escanear texturas para crear un nivel de detalle muy alto\n",
            "################################\n",
            "\n",
            "En él, tres jugadores se unen en una partida para intentar superar cada escenario.\n",
            "################################\n",
            "\n",
            "Después de tres años en desarrollo, la compañía está lista para compartir la versión móvil.\n"
          ]
        }
      ]
    }
  ]
}